{
  "nbformat": 4,
  "nbformat_minor": 0,
  "metadata": {
    "colab": {
      "name": "Saving&Loading_KerasNN.ipynb",
      "provenance": [],
      "include_colab_link": true
    },
    "kernelspec": {
      "name": "python3",
      "display_name": "Python 3"
    }
  },
  "cells": [
    {
      "cell_type": "markdown",
      "metadata": {
        "id": "view-in-github",
        "colab_type": "text"
      },
      "source": [
        "<a href=\"https://colab.research.google.com/github/ricejohn03/Keras-Save-Load-Model/blob/master/Saving%26Loading_KerasNN.ipynb\" target=\"_parent\"><img src=\"https://colab.research.google.com/assets/colab-badge.svg\" alt=\"Open In Colab\"/></a>"
      ]
    },
    {
      "cell_type": "markdown",
      "metadata": {
        "id": "EIL0YcnP1Pb_",
        "colab_type": "text"
      },
      "source": [
        "# Saving And Loading A Keras Neural Network\n"
      ]
    },
    {
      "cell_type": "code",
      "metadata": {
        "id": "_jr8W1y6z-sJ",
        "colab_type": "code",
        "colab": {}
      },
      "source": [
        "from tensorflow.keras.models import Sequential\n",
        "from tensorflow.keras.layers import Dense, Activation\n",
        "import pandas as pd\n",
        "import os\n",
        "import numpy as np\n",
        "from sklearn import metrics\n",
        "\n"
      ],
      "execution_count": null,
      "outputs": []
    },
    {
      "cell_type": "code",
      "metadata": {
        "id": "pw3JlNkq2xXd",
        "colab_type": "code",
        "colab": {
          "base_uri": "https://localhost:8080/",
          "height": 128
        },
        "outputId": "1a4b083c-cd35-4908-8070-3af48dffb75d"
      },
      "source": [
        "from google.colab import drive\n",
        "drive.mount('/content/gdrive')"
      ],
      "execution_count": null,
      "outputs": [
        {
          "output_type": "stream",
          "text": [
            "Go to this URL in a browser: https://accounts.google.com/o/oauth2/auth?client_id=947318989803-6bn6qk8qdgf4n4g3pfee6491hc0brc4i.apps.googleusercontent.com&redirect_uri=urn%3Aietf%3Awg%3Aoauth%3A2.0%3Aoob&scope=email%20https%3A%2F%2Fwww.googleapis.com%2Fauth%2Fdocs.test%20https%3A%2F%2Fwww.googleapis.com%2Fauth%2Fdrive%20https%3A%2F%2Fwww.googleapis.com%2Fauth%2Fdrive.photos.readonly%20https%3A%2F%2Fwww.googleapis.com%2Fauth%2Fpeopleapi.readonly&response_type=code\n",
            "\n",
            "Enter your authorization code:\n",
            "··········\n",
            "Mounted at /content/gdrive\n"
          ],
          "name": "stdout"
        }
      ]
    },
    {
      "cell_type": "code",
      "metadata": {
        "id": "LKPfykin25F2",
        "colab_type": "code",
        "colab": {}
      },
      "source": [
        "save_path = 'gdrive/My Drive/ML_Data/'"
      ],
      "execution_count": null,
      "outputs": []
    },
    {
      "cell_type": "code",
      "metadata": {
        "id": "oousxud73hS0",
        "colab_type": "code",
        "colab": {
          "base_uri": "https://localhost:8080/",
          "height": 1000
        },
        "outputId": "60f8285f-9c06-4481-bfc5-56188113562e"
      },
      "source": [
        "df = pd.read_csv(\n",
        "    \"https://data.heatonresearch.com/data/t81-558/auto-mpg.csv\", \n",
        "    na_values=['NA', '?'])\n",
        "\n",
        "cars = df['name']\n",
        "df['horsepower'] = df['horsepower'].fillna(df['horsepower'].median())\n",
        "\n",
        "# break into X and Y components for the training\n",
        "\n",
        "x = df[['cylinders', 'displacement', 'horsepower', 'weight',\n",
        "       'acceleration', 'year', 'origin']].values\n",
        "y = df['mpg'].values\n",
        "\n",
        "model = Sequential()\n",
        "model.add(Dense(25, input_dim=x.shape[1], activation='relu'))\n",
        "model.add(Dense(10, activation='relu'))\n",
        "model.add(Dense(1))\n",
        "model.compile(loss='mean_squared_error', optimizer='adam')\n",
        "model.fit(x,y, verbose=2, epochs=100)\n",
        "\n",
        "pred = model.predict(x)\n",
        "\n",
        "score = np.sqrt(metrics.mean_squared_error(pred,y))\n",
        "print(f\"Before save score (RMSE): {score}\")\n",
        "\n",
        "\n",
        "# save entire network to HDF5 (save everything, suggested)\n",
        "model.save(os.path.join(save_path,\"mpg_reg_network.h5\"))"
      ],
      "execution_count": null,
      "outputs": [
        {
          "output_type": "stream",
          "text": [
            "Train on 398 samples\n",
            "Epoch 1/100\n",
            "398/398 - 0s - loss: 166.8533\n",
            "Epoch 2/100\n",
            "398/398 - 0s - loss: 76.1108\n",
            "Epoch 3/100\n",
            "398/398 - 0s - loss: 63.2442\n",
            "Epoch 4/100\n",
            "398/398 - 0s - loss: 62.4260\n",
            "Epoch 5/100\n",
            "398/398 - 0s - loss: 61.2352\n",
            "Epoch 6/100\n",
            "398/398 - 0s - loss: 58.4549\n",
            "Epoch 7/100\n",
            "398/398 - 0s - loss: 57.3527\n",
            "Epoch 8/100\n",
            "398/398 - 0s - loss: 56.9393\n",
            "Epoch 9/100\n",
            "398/398 - 0s - loss: 54.1933\n",
            "Epoch 10/100\n",
            "398/398 - 0s - loss: 56.0287\n",
            "Epoch 11/100\n",
            "398/398 - 0s - loss: 53.4210\n",
            "Epoch 12/100\n",
            "398/398 - 0s - loss: 51.8465\n",
            "Epoch 13/100\n",
            "398/398 - 0s - loss: 52.4678\n",
            "Epoch 14/100\n",
            "398/398 - 0s - loss: 50.9561\n",
            "Epoch 15/100\n",
            "398/398 - 0s - loss: 47.8312\n",
            "Epoch 16/100\n",
            "398/398 - 0s - loss: 47.1295\n",
            "Epoch 17/100\n",
            "398/398 - 0s - loss: 45.9650\n",
            "Epoch 18/100\n",
            "398/398 - 0s - loss: 44.7173\n",
            "Epoch 19/100\n",
            "398/398 - 0s - loss: 47.4524\n",
            "Epoch 20/100\n",
            "398/398 - 0s - loss: 41.7773\n",
            "Epoch 21/100\n",
            "398/398 - 0s - loss: 45.0432\n",
            "Epoch 22/100\n",
            "398/398 - 0s - loss: 41.6932\n",
            "Epoch 23/100\n",
            "398/398 - 0s - loss: 38.6556\n",
            "Epoch 24/100\n",
            "398/398 - 0s - loss: 37.4506\n",
            "Epoch 25/100\n",
            "398/398 - 0s - loss: 39.7749\n",
            "Epoch 26/100\n",
            "398/398 - 0s - loss: 38.7552\n",
            "Epoch 27/100\n",
            "398/398 - 0s - loss: 34.6441\n",
            "Epoch 28/100\n",
            "398/398 - 0s - loss: 35.8799\n",
            "Epoch 29/100\n",
            "398/398 - 0s - loss: 36.5128\n",
            "Epoch 30/100\n",
            "398/398 - 0s - loss: 36.6911\n",
            "Epoch 31/100\n",
            "398/398 - 0s - loss: 34.4885\n",
            "Epoch 32/100\n",
            "398/398 - 0s - loss: 31.3691\n",
            "Epoch 33/100\n",
            "398/398 - 0s - loss: 30.8393\n",
            "Epoch 34/100\n",
            "398/398 - 0s - loss: 29.8758\n",
            "Epoch 35/100\n",
            "398/398 - 0s - loss: 30.5121\n",
            "Epoch 36/100\n",
            "398/398 - 0s - loss: 29.6639\n",
            "Epoch 37/100\n",
            "398/398 - 0s - loss: 28.5888\n",
            "Epoch 38/100\n",
            "398/398 - 0s - loss: 27.1757\n",
            "Epoch 39/100\n",
            "398/398 - 0s - loss: 26.7597\n",
            "Epoch 40/100\n",
            "398/398 - 0s - loss: 28.7962\n",
            "Epoch 41/100\n",
            "398/398 - 0s - loss: 29.9872\n",
            "Epoch 42/100\n",
            "398/398 - 0s - loss: 28.4997\n",
            "Epoch 43/100\n",
            "398/398 - 0s - loss: 26.1006\n",
            "Epoch 44/100\n",
            "398/398 - 0s - loss: 23.8076\n",
            "Epoch 45/100\n",
            "398/398 - 0s - loss: 23.4033\n",
            "Epoch 46/100\n",
            "398/398 - 0s - loss: 24.2061\n",
            "Epoch 47/100\n",
            "398/398 - 0s - loss: 22.2712\n",
            "Epoch 48/100\n",
            "398/398 - 0s - loss: 22.9472\n",
            "Epoch 49/100\n",
            "398/398 - 0s - loss: 22.7295\n",
            "Epoch 50/100\n",
            "398/398 - 0s - loss: 21.0094\n",
            "Epoch 51/100\n",
            "398/398 - 0s - loss: 21.8881\n",
            "Epoch 52/100\n",
            "398/398 - 0s - loss: 20.1066\n",
            "Epoch 53/100\n",
            "398/398 - 0s - loss: 19.9566\n",
            "Epoch 54/100\n",
            "398/398 - 0s - loss: 20.1850\n",
            "Epoch 55/100\n",
            "398/398 - 0s - loss: 20.1870\n",
            "Epoch 56/100\n",
            "398/398 - 0s - loss: 18.5433\n",
            "Epoch 57/100\n",
            "398/398 - 0s - loss: 19.0541\n",
            "Epoch 58/100\n",
            "398/398 - 0s - loss: 17.7306\n",
            "Epoch 59/100\n",
            "398/398 - 0s - loss: 17.3523\n",
            "Epoch 60/100\n",
            "398/398 - 0s - loss: 18.0451\n",
            "Epoch 61/100\n",
            "398/398 - 0s - loss: 18.2161\n",
            "Epoch 62/100\n",
            "398/398 - 0s - loss: 17.2745\n",
            "Epoch 63/100\n",
            "398/398 - 0s - loss: 19.7071\n",
            "Epoch 64/100\n",
            "398/398 - 0s - loss: 18.6411\n",
            "Epoch 65/100\n",
            "398/398 - 0s - loss: 16.1927\n",
            "Epoch 66/100\n",
            "398/398 - 0s - loss: 15.3414\n",
            "Epoch 67/100\n",
            "398/398 - 0s - loss: 19.3344\n",
            "Epoch 68/100\n",
            "398/398 - 0s - loss: 17.7322\n",
            "Epoch 69/100\n",
            "398/398 - 0s - loss: 18.1879\n",
            "Epoch 70/100\n",
            "398/398 - 0s - loss: 15.6667\n",
            "Epoch 71/100\n",
            "398/398 - 0s - loss: 14.9206\n",
            "Epoch 72/100\n",
            "398/398 - 0s - loss: 15.0799\n",
            "Epoch 73/100\n",
            "398/398 - 0s - loss: 14.7157\n",
            "Epoch 74/100\n",
            "398/398 - 0s - loss: 13.9671\n",
            "Epoch 75/100\n",
            "398/398 - 0s - loss: 14.1885\n",
            "Epoch 76/100\n",
            "398/398 - 0s - loss: 13.7540\n",
            "Epoch 77/100\n",
            "398/398 - 0s - loss: 13.5768\n",
            "Epoch 78/100\n",
            "398/398 - 0s - loss: 14.3634\n",
            "Epoch 79/100\n",
            "398/398 - 0s - loss: 13.2822\n",
            "Epoch 80/100\n",
            "398/398 - 0s - loss: 15.0606\n",
            "Epoch 81/100\n",
            "398/398 - 0s - loss: 14.6714\n",
            "Epoch 82/100\n",
            "398/398 - 0s - loss: 15.2924\n",
            "Epoch 83/100\n",
            "398/398 - 0s - loss: 12.6994\n",
            "Epoch 84/100\n",
            "398/398 - 0s - loss: 12.7732\n",
            "Epoch 85/100\n",
            "398/398 - 0s - loss: 14.1479\n",
            "Epoch 86/100\n",
            "398/398 - 0s - loss: 14.0165\n",
            "Epoch 87/100\n",
            "398/398 - 0s - loss: 13.0924\n",
            "Epoch 88/100\n",
            "398/398 - 0s - loss: 12.6338\n",
            "Epoch 89/100\n",
            "398/398 - 0s - loss: 12.3305\n",
            "Epoch 90/100\n",
            "398/398 - 0s - loss: 12.2161\n",
            "Epoch 91/100\n",
            "398/398 - 0s - loss: 12.4460\n",
            "Epoch 92/100\n",
            "398/398 - 0s - loss: 12.7420\n",
            "Epoch 93/100\n",
            "398/398 - 0s - loss: 12.3427\n",
            "Epoch 94/100\n",
            "398/398 - 0s - loss: 12.6873\n",
            "Epoch 95/100\n",
            "398/398 - 0s - loss: 13.3769\n",
            "Epoch 96/100\n",
            "398/398 - 0s - loss: 12.4972\n",
            "Epoch 97/100\n",
            "398/398 - 0s - loss: 12.6945\n",
            "Epoch 98/100\n",
            "398/398 - 0s - loss: 12.9103\n",
            "Epoch 99/100\n",
            "398/398 - 0s - loss: 13.5040\n",
            "Epoch 100/100\n",
            "398/398 - 0s - loss: 13.4641\n",
            "Before save score (RMSE): 3.3790621913103234\n"
          ],
          "name": "stdout"
        }
      ]
    },
    {
      "cell_type": "code",
      "metadata": {
        "id": "cMx-ZoQF5Y41",
        "colab_type": "code",
        "colab": {
          "base_uri": "https://localhost:8080/",
          "height": 165
        },
        "outputId": "e5c4e7ce-8bf5-4b78-fe75-0f1626d6b507"
      },
      "source": [
        "from tensorflow.keras.models import load_model\n",
        "model2 = load_model(os.path.join(save_path,\"mpg_reg_network.h5\"))\n",
        "pred = model2.predict(x)\n",
        "# Measure RMSE error.  RMSE is common for regression.\n",
        "score = np.sqrt(metrics.mean_squared_error(pred,y))\n",
        "print(f\"After load score (RMSE): {score}\")"
      ],
      "execution_count": null,
      "outputs": [
        {
          "output_type": "stream",
          "text": [
            "WARNING:tensorflow:From /usr/local/lib/python3.6/dist-packages/tensorflow_core/python/ops/init_ops.py:97: calling GlorotUniform.__init__ (from tensorflow.python.ops.init_ops) with dtype is deprecated and will be removed in a future version.\n",
            "Instructions for updating:\n",
            "Call initializer instance with the dtype argument instead of passing it to the constructor\n",
            "WARNING:tensorflow:From /usr/local/lib/python3.6/dist-packages/tensorflow_core/python/ops/init_ops.py:97: calling Zeros.__init__ (from tensorflow.python.ops.init_ops) with dtype is deprecated and will be removed in a future version.\n",
            "Instructions for updating:\n",
            "Call initializer instance with the dtype argument instead of passing it to the constructor\n",
            "After load score (RMSE): 3.3790621913103234\n"
          ],
          "name": "stdout"
        }
      ]
    }
  ]
}